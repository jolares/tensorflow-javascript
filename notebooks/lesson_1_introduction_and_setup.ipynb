{
 "cells": [
  {
   "cell_type": "markdown",
   "metadata": {},
   "source": [
    "# Introduction to TensorFlow.js and Setup\n",
    "\n",
    "TensorFlow.js is an open-source WebGL JavaScript library for machine learning that allows us to train/use  Machine Learning (ML) and Deep Learning (DL) models in the browser.\n",
    "\n",
    "Its based on the regular TensorFlow library built in Python, rewritten in JavaScript."
   ]
  },
  {
   "cell_type": "markdown",
   "metadata": {},
   "source": [
    "## Components of the Library\n",
    "\n",
    "The main components of the TensorFlow.js library are:\n",
    "\n",
    " * Tensors\n",
    " * Variables\n",
    " * Operations \n",
    " * Models"
   ]
  },
  {
   "cell_type": "code",
   "execution_count": 1,
   "metadata": {},
   "outputs": [],
   "source": [
    "// Installation https://www.tensorflow.org/js/tutorials/setup\n",
    "import * as tf from '@tensorflow/tfjs';"
   ]
  },
  {
   "cell_type": "code",
   "execution_count": 2,
   "metadata": {},
   "outputs": [],
   "source": [
    "// (Optional) Load binding\n",
    "// Note: Use '@tensorflow/tfjs-node-gpu' instead if running with GPU.\n",
    "const tfNode = require('@tensorflow/tfjs-node');"
   ]
  },
  {
   "cell_type": "markdown",
   "metadata": {},
   "source": [
    "## Tensors\n",
    "\n",
    "Tensors are the central units of numerical values in which we shape our data into one or many arrays.\n",
    "\n",
    "A tensor is a vector or matrix of n-dimensions that can represents all types of data. All values in a tensor hold identical data type with a known (or partially known) shape. The shape of the data is the dimensionality of the matrix or array. A tensor can be originated from the input data, or the result of a computation. \n",
    "\n",
    "Tensors are immutable, therefore values assigned to them cannot be changed."
   ]
  },
  {
   "cell_type": "code",
   "execution_count": 3,
   "metadata": {},
   "outputs": [
    {
     "name": "stdout",
     "output_type": "stream",
     "text": [
      "Tensor\n",
      "    [[1 , 2 , 3 ],\n",
      "     [10, 20, 30]]\n"
     ]
    }
   ],
   "source": [
    "\n",
    "const inputData = [1.0, 2.0, 3.0, 10.0, 20.0, 30.0];\n",
    "\n",
    "const myTensorShape = [2, 3];  // matrix dimensions [n_rows, n_columns]\n",
    "\n",
    "const myTensor = tf.tensor(inputData, myTensorShape);\n",
    "\n",
    "myTensor.print();"
   ]
  },
  {
   "cell_type": "markdown",
   "metadata": {},
   "source": [
    "## Variables\n",
    "\n",
    "Variables in TensorFlow are a set of values that you can assign. Variables are mutable, so they can be changed over time as we trained our models."
   ]
  },
  {
   "cell_type": "code",
   "execution_count": 4,
   "metadata": {},
   "outputs": [
    {
     "name": "stderr",
     "output_type": "stream",
     "text": [
      "3:33 - Cannot find name 'initValues'.\n"
     ]
    }
   ],
   "source": [
    "\n",
    "const initialValues = tf.zeros([5]);  // a 5-dimensional vector initialized with zeros.\n",
    "const modelBiases = tf.variable(initValues); // initialize model-bias variable's values.\n",
    "\n",
    "console.log('// Initial Values');\n",
    "modelBiases.print();\n",
    "\n",
    "const updatedValues = tf.tensor1d([0, 1, 0, 1, 0]);\n",
    "modelBiases.assign(updatedValues);  // update model-bias variable with new values.\n",
    "\n",
    "console.log('\\n// Updated Values');\n",
    "modelBiases.print();"
   ]
  },
  {
   "cell_type": "markdown",
   "metadata": {},
   "source": [
    "## Operations (Ops)\n",
    "\n",
    "Operations (Ops), are functions that allow us to manipulate data stored in tensors and/or variables. \n",
    "\n",
    "They provide many ML and Linear Algebra operations to explore our data. However, recall that since tensors are immutable, operations cannot change a tensor's data."
   ]
  },
  {
   "cell_type": "code",
   "execution_count": null,
   "metadata": {},
   "outputs": [],
   "source": [
    "const tensor1 = tf.tensor2d([[1.0, 2.0],  // initialize a 2D tensor.\n",
    "                             [3.0, 4.0]]);\n",
    "\n",
    "// tensor1 = tensor1.square();  // raises error: \"Cannot assign to 'tensor1' because it is a constant.\"\n",
    "\n",
    "\n",
    "// define a new tensor as the output of the square [operation] on tensor1.\n",
    "const tensor2 = tensor1.square();\n",
    "\n",
    "tensor2.print();"
   ]
  },
  {
   "cell_type": "markdown",
   "metadata": {},
   "source": [
    "## Models\n",
    "\n",
    "Models allows us to use _operations_ to produce our ML or DL results.\n",
    "\n",
    "Models leverage all the previously discussed TensorFlow components; they receive input data, feed it to the model's tensors and/or variables, and then use operations to build a model that when given new input data, it produces an output that is the ML/DL model's result."
   ]
  },
  {
   "cell_type": "code",
   "execution_count": null,
   "metadata": {},
   "outputs": [],
   "source": [
    "// 1. Define Model\n",
    "\n",
    "/*\n",
    " * A model that predicts the value of y based on Equation (1) y = a * x ^ 2 + b * x + c\n",
    " * assuming values of \"a\" and \"b\" are 3 and 4, respectively, while learning the\n",
    " * value of \"c\" from historical/training data.\n",
    " */\n",
    "class MyModel {\n",
    "    \n",
    "    // Initialize values for \"a\" and \"b\" in Equation (1).\n",
    "    private readonly a: tf.Scalar = tf.scalar(3);\n",
    "    private readonly b: tf.Scalar = tf.scalar(4);\n",
    "    \n",
    "    // Default/Initial value for variable c in Equation (1).\n",
    "    private readonly cInitValue = tf.tensor(0);\n",
    "    \n",
    "    // Initialize\n",
    "    private c: tf.Variable = tf.variable(this.cInitValue);\n",
    "    \n",
    "    constructor() {}\n",
    "    \n",
    "    public train(cValuesObserved) {\n",
    "        \n",
    "        const cObservedTensor = tf.tensor(cValuesObserved);\n",
    "        \n",
    "        const cMean: tf.Tensor = cObservedTensor.mean();\n",
    "\n",
    "        this.c.assign(cMean);\n",
    "    }\n",
    "\n",
    "    \n",
    "    /**\n",
    "     * Predicts the value of y.\n",
    "     * assuming the values of a, b, and c, are 2, 4, and 8, respectively.\n",
    "     * @param input_data { scalar } the value of x used to evaluate Equation (1).\n",
    "     */\n",
    "    public predict(input: number) {\n",
    "        return tf.tidy(() => {            \n",
    "            const x: tf.Scalar = tf.scalar(input);\n",
    "            \n",
    "            const ax2: tf.Tensor = this.a.mul(x.square());\n",
    "            const bx: tf.Tensor = this.b.mul(x);\n",
    "            \n",
    "            const yPred: tf.Tensor = ax2.add(bx).add(this.c);\n",
    "            \n",
    "            return yPred;\n",
    "        });\n",
    "    }    \n",
    "}\n",
    "\n",
    "const myModel = new MyModel();\n",
    "\n",
    "\n",
    "// 2. Train the model with observed/historical values of \"c\".\n",
    "\n",
    "const cValuesObserved = [2, 3, 4];\n",
    "\n",
    "myModel.train(cValuesObserved)\n",
    "\n",
    "\n",
    "// 3. Predict output for [novel] input data\n",
    "\n",
    "const inputData = 2.2;\n",
    "\n",
    "const result = my_model.predict(inputData);\n",
    "\n",
    "result.print(); // output: 26.479999542236328"
   ]
  },
  {
   "cell_type": "code",
   "execution_count": null,
   "metadata": {},
   "outputs": [],
   "source": []
  },
  {
   "cell_type": "markdown",
   "metadata": {},
   "source": [
    "## TensorFlow.js vs Regular TensorFlow (Python version)\n",
    "\n",
    "\n",
    "### Origin\n",
    "\n",
    "TensorFlow.js is the successor, and replacement, of deeplearn.js\n",
    "\n",
    "\n",
    "### Performance\n",
    "\n",
    "The regular version of TensorFlow (Python) runs 1.5x faster than TensorFlow.js. This is mainly\n",
    "because of how TensorFlow.js runs at its core: (1) TensorFlow.js runs in the browser, where a lot of CPU processes are used for the entire browsing experience, and (2) TensorFlow.js running on WebGL,\n",
    "as opposed to the regular (Python) version which runs on AVX.\n",
    " \n",
    " \n",
    "### Recommended Use Cases\n",
    "\n",
    "**Use TensorFlow (Python) if your application is server-based** (e.g SSR) or if your feature does not require running TensorFlow in the browser. \n",
    "\n",
    "**Use TensorFlow.js when you need to run TensorFlow on the browser**. Even though you can also run TensorFlow.js server-side by using its NodeJS wrapper, the recommendation in general is to only\n",
    "use TensorFlow.js when you need it to run in the browser; this recommendation may change over time\n",
    "as new releases of TensorFlow.js rollout."
   ]
  },
  {
   "cell_type": "markdown",
   "metadata": {},
   "source": [
    "## Intro to Machine Learning\n",
    "\n",
    "TODO\n",
    "\n"
   ]
  },
  {
   "cell_type": "markdown",
   "metadata": {},
   "source": [
    "## A TensorFlow.js Demo\n",
    "\n",
    "TODO"
   ]
  },
  {
   "cell_type": "markdown",
   "metadata": {},
   "source": [
    "\n",
    "<h1>hey</h1>"
   ]
  },
  {
   "cell_type": "code",
   "execution_count": null,
   "metadata": {},
   "outputs": [],
   "source": []
  },
  {
   "cell_type": "code",
   "execution_count": null,
   "metadata": {},
   "outputs": [],
   "source": []
  }
 ],
 "metadata": {
  "kernelspec": {
   "display_name": "TypeScript",
   "language": "typescript",
   "name": "typescript"
  },
  "language_info": {
   "codemirror_mode": {
    "mode": "typescript",
    "name": "javascript",
    "typescript": true
   },
   "file_extension": ".ts",
   "mimetype": "text/typescript",
   "name": "typescript",
   "version": "3.7.2"
  },
  "toc-autonumbering": true
 },
 "nbformat": 4,
 "nbformat_minor": 5
}